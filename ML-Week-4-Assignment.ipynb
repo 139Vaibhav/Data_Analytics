{
 "cells": [
  {
   "cell_type": "code",
   "execution_count": 31,
   "metadata": {},
   "outputs": [
    {
     "name": "stderr",
     "output_type": "stream",
     "text": [
      "C:\\Users\\Vaibhav\\anaconda3\\lib\\site-packages\\IPython\\core\\interactiveshell.py:3254: DtypeWarning: Columns (11,12,31) have mixed types.Specify dtype option on import or set low_memory=False.\n",
      "  if (await self.run_code(code, result,  async_=asy)):\n"
     ]
    },
    {
     "data": {
      "text/plain": [
       "ticket_id\n",
       "284932    0.060850\n",
       "285362    0.023863\n",
       "285361    0.069567\n",
       "285338    0.060850\n",
       "285346    0.069567\n",
       "            ...   \n",
       "376496    0.023863\n",
       "376497    0.023863\n",
       "376499    0.069567\n",
       "376500    0.069567\n",
       "369851    0.295087\n",
       "Length: 61001, dtype: float64"
      ]
     },
     "execution_count": 31,
     "metadata": {},
     "output_type": "execute_result"
    }
   ],
   "source": [
    "import pandas as pd\n",
    "import numpy as np\n",
    "\n",
    "def blight_model():\n",
    "    \n",
    "    from sklearn.model_selection import train_test_split\n",
    "    from sklearn.metrics import roc_curve, auc\n",
    "    from sklearn.ensemble import RandomForestClassifier\n",
    "    \n",
    "    # Your code here\n",
    "    \n",
    "    df_train = pd.read_csv('train.csv', encoding = \"ISO-8859-1\")\n",
    "    df_train.index = df_train['ticket_id']\n",
    "    df_test = pd.read_csv('test.csv', encoding = \"ISO-8859-1\")\n",
    "    df_test.index = df_test['ticket_id']\n",
    "    \n",
    "    features_name = ['fine_amount','admin_fee','state_fee','late_fee']\n",
    "    df_train.compliance = df_train.compliance.fillna(value = -1)\n",
    "    df_train = df_train[df_train.compliance != -1]\n",
    "    \n",
    "    X = df_train[features_name]\n",
    "    y = df_train['compliance']\n",
    "    \n",
    "    X_train, X_test, y_train, y_test = train_test_split(X, y, random_state=0)\n",
    "    clf = RandomForestClassifier(n_estimators = 10, random_state = 0).fit(X_train, y_train)\n",
    "    \n",
    "    X_predict = clf.predict_proba(df_test[features_name])\n",
    "    \n",
    "    ans = pd.Series(data = X_predict[:,1], index = df_test['ticket_id'])\n",
    "    \n",
    "    return ans\n",
    "blight_model()"
   ]
  },
  {
   "cell_type": "code",
   "execution_count": null,
   "metadata": {},
   "outputs": [],
   "source": []
  }
 ],
 "metadata": {
  "kernelspec": {
   "display_name": "Python 3",
   "language": "python",
   "name": "python3"
  },
  "language_info": {
   "codemirror_mode": {
    "name": "ipython",
    "version": 3
   },
   "file_extension": ".py",
   "mimetype": "text/x-python",
   "name": "python",
   "nbconvert_exporter": "python",
   "pygments_lexer": "ipython3",
   "version": "3.7.6"
  }
 },
 "nbformat": 4,
 "nbformat_minor": 4
}
